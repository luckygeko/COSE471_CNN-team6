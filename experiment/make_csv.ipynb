{
 "cells": [
  {
   "cell_type": "code",
   "execution_count": 1,
   "metadata": {},
   "outputs": [],
   "source": [
    "import os\n",
    "import pandas as pd"
   ]
  },
  {
   "cell_type": "code",
   "execution_count": 13,
   "metadata": {},
   "outputs": [],
   "source": [
    "def load_landmarks(txt_file):\n",
    "    with open(txt_file, 'r') as f:\n",
    "        lines = f.readlines()\n",
    "    landmarks = []\n",
    "    for line in lines:\n",
    "        parts = line.strip().split()\n",
    "        if len(parts) >= 2:\n",
    "            x = float(parts[0])\n",
    "            y = float(parts[1])\n",
    "            landmarks.append((x, y))\n",
    "    return landmarks if len(landmarks) == 49 else None\n"
   ]
  },
  {
   "cell_type": "code",
   "execution_count": 14,
   "metadata": {},
   "outputs": [],
   "source": [
    "def extract_age_from_filename(filename):\n",
    "    try:\n",
    "        base = os.path.splitext(filename)[0]\n",
    "        age = int(base.split(\"A\")[-1])  # 예: \"02665A27\" → \"27\"\n",
    "        return age\n",
    "    except:\n",
    "        return None\n"
   ]
  },
  {
   "cell_type": "code",
   "execution_count": 17,
   "metadata": {},
   "outputs": [],
   "source": [
    "def create_aaf_csv(aligned_dir, keypoint_dir, save_path):\n",
    "    data = []\n",
    "\n",
    "    for filename in sorted(os.listdir(aligned_dir)):\n",
    "        if not filename.lower().endswith(\".jpg\"):\n",
    "            continue\n",
    "\n",
    "        base_name = os.path.splitext(filename)[0]\n",
    "        img_path = os.path.join(aligned_dir, filename)\n",
    "        kp_path = os.path.join(keypoint_dir, base_name + \".txt\")\n",
    "\n",
    "        if not os.path.exists(kp_path):\n",
    "            continue\n",
    "\n",
    "        age = extract_age_from_filename(filename)\n",
    "        if age is None:\n",
    "            continue\n",
    "\n",
    "        landmarks = load_landmarks(kp_path)\n",
    "        if landmarks is None:\n",
    "            continue\n",
    "\n",
    "        row = {\"image_path\": img_path, \"age\": age}\n",
    "        for i, (x, y) in enumerate(landmarks):\n",
    "            row[f\"x{i}\"] = x\n",
    "            row[f\"y{i}\"] = y\n",
    "\n",
    "        data.append(row)\n",
    "\n",
    "    df = pd.DataFrame(data)\n",
    "    df.to_csv(save_path, index=False)\n",
    "    print(f\"✅ CSV saved to '{save_path}' with {len(df)} samples.\")\n"
   ]
  },
  {
   "cell_type": "code",
   "execution_count": 26,
   "metadata": {},
   "outputs": [
    {
     "name": "stdout",
     "output_type": "stream",
     "text": [
      "✅ Saved 13322 samples to aaf_age_labels.csv\n"
     ]
    }
   ],
   "source": [
    "import os\n",
    "import pandas as pd\n",
    "\n",
    "# 설정\n",
    "image_dir = \"/Users/geko/COSE471_data-science/AFF/aglined_faces\"\n",
    "output_csv = \"aaf_age_labels.csv\"\n",
    "\n",
    "data = []\n",
    "\n",
    "# 파일 이름에서 나이 추출\n",
    "for filename in sorted(os.listdir(image_dir)):\n",
    "    if not filename.lower().endswith(\".jpg\"):\n",
    "        continue\n",
    "    try:\n",
    "        age_str = filename.split(\"A\")[-1].replace(\".jpg\", \"\")\n",
    "        age = int(age_str)\n",
    "        path = os.path.join(image_dir, filename)\n",
    "        data.append({\"image_path\": path, \"age\": age})\n",
    "    except:\n",
    "        continue  # 예외가 있으면 스킵\n",
    "\n",
    "# 저장\n",
    "df = pd.DataFrame(data)\n",
    "df.to_csv(output_csv, index=False)\n",
    "print(f\"✅ Saved {len(df)} samples to {output_csv}\")"
   ]
  },
  {
   "cell_type": "code",
   "execution_count": 18,
   "metadata": {},
   "outputs": [
    {
     "name": "stdout",
     "output_type": "stream",
     "text": [
      "✅ CSV saved to 'aaf_age_landmarks.csv' with 13322 samples.\n"
     ]
    }
   ],
   "source": [
    "create_aaf_csv(\n",
    "    aligned_dir=\"/Users/geko/COSE471_data-science/AFF/aglined_faces\",  # 오타라면 실제 폴더명에 맞게 수정!\n",
    "    keypoint_dir=\"/Users/geko/COSE471_data-science/AFF/key_points\",\n",
    "    save_path=\"aaf_age_landmarks.csv\"\n",
    ")\n"
   ]
  }
 ],
 "metadata": {
  "kernelspec": {
   "display_name": "Python 3",
   "language": "python",
   "name": "python3"
  },
  "language_info": {
   "codemirror_mode": {
    "name": "ipython",
    "version": 3
   },
   "file_extension": ".py",
   "mimetype": "text/x-python",
   "name": "python",
   "nbconvert_exporter": "python",
   "pygments_lexer": "ipython3",
   "version": "3.9.6"
  }
 },
 "nbformat": 4,
 "nbformat_minor": 2
}
